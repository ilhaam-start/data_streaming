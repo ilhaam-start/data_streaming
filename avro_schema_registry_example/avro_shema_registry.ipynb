{
 "cells": [
  {
   "cell_type": "code",
   "execution_count": null,
   "metadata": {},
   "outputs": [],
   "source": [
    "%pip install confluent-kafka avro kafka-python\n"
   ]
  },
  {
   "cell_type": "code",
   "execution_count": null,
   "metadata": {},
   "outputs": [],
   "source": [
    "from kafka.admin import KafkaAdminClient, NewTopic\n",
    "\n",
    "\n",
    "admin_client = KafkaAdminClient(\n",
    "    bootstrap_servers=\"broker:29092\", \n",
    "    client_id='test'\n",
    ")\n",
    "\n",
    "topic_list = []\n",
    "topic_list.append(NewTopic(name=\"avro_schema_topic\", num_partitions=1, replication_factor=1))\n",
    "admin_client.create_topics(new_topics=topic_list, validate_only=False)"
   ]
  },
  {
   "cell_type": "code",
   "execution_count": 12,
   "metadata": {},
   "outputs": [
    {
     "name": "stderr",
     "output_type": "stream",
     "text": [
      "/tmp/ipykernel_1977/766125364.py:17: DeprecationWarning: AvroProducer has been deprecated. Use AvroSerializer instead.\n",
      "  producer = AvroProducer(\n"
     ]
    },
    {
     "data": {
      "text/plain": [
       "0"
      ]
     },
     "execution_count": 12,
     "metadata": {},
     "output_type": "execute_result"
    }
   ],
   "source": [
    "from confluent_kafka import avro\n",
    "from confluent_kafka.avro import AvroProducer\n",
    "\n",
    "# Define the AVRO schema\n",
    "schema = \"\"\"\n",
    "{\n",
    "  \"type\": \"record\",\n",
    "  \"name\": \"MyRecord\",\n",
    "  \"fields\": [\n",
    "    {\"name\": \"id\", \"type\": \"int\"},\n",
    "    {\"name\": \"name\", \"type\": \"string\"}\n",
    "  ]\n",
    "}\n",
    "\"\"\"\n",
    "\n",
    "# Create an AvroProducer with the schema registry configuration\n",
    "producer = AvroProducer(\n",
    "    {\n",
    "        \"bootstrap.servers\": \"broker:29092\",\n",
    "        \"schema.registry.url\": \"http://schema-registry:8081\",\n",
    "    },\n",
    "    default_value_schema=avro.loads(schema),\n",
    ")\n",
    "\n",
    "# Produce a message with the schema\n",
    "message = {\"id\": 4, \"name\": \"Gu1y Wolf\"}\n",
    "producer.produce(topic=\"avro_schema_topic\", value=message)\n",
    "producer.flush()"
   ]
  },
  {
   "cell_type": "code",
   "execution_count": 13,
   "metadata": {},
   "outputs": [
    {
     "name": "stderr",
     "output_type": "stream",
     "text": [
      "/tmp/ipykernel_1977/470993943.py:5: DeprecationWarning: AvroConsumer has been deprecated. Use AvroDeserializer instead.\n",
      "  consumer = AvroConsumer(\n"
     ]
    },
    {
     "name": "stdout",
     "output_type": "stream",
     "text": [
      "Received message - ID: 1, Name: John Doe\n",
      "Received message - ID: 1, Name: John Doe\n",
      "Received message - ID: 2, Name: John Wolf\n",
      "Received message - ID: 2, Name: John Wolf\n",
      "Received message - ID: 2, Name: John Wolf\n",
      "Received message - ID: 2, Name: John Wolf\n",
      "Received message - ID: 2, Name: John Wolf\n",
      "Received message - ID: 4, Name: Guty Wolf\n",
      "Received message - ID: 4, Name: Gu2y Wolf\n",
      "Received message - ID: 4, Name: Gu1y Wolf\n",
      "No message\n"
     ]
    },
    {
     "ename": "AttributeError",
     "evalue": "'NoneType' object has no attribute 'error'",
     "output_type": "error",
     "traceback": [
      "\u001b[0;31m---------------------------------------------------------------------------\u001b[0m",
      "\u001b[0;31mAttributeError\u001b[0m                            Traceback (most recent call last)",
      "Cell \u001b[0;32mIn[13], line 24\u001b[0m\n\u001b[1;32m     22\u001b[0m     \u001b[39mprint\u001b[39m(\u001b[39m\"\u001b[39m\u001b[39mNo message\u001b[39m\u001b[39m\"\u001b[39m)\n\u001b[1;32m     23\u001b[0m     running \u001b[39m=\u001b[39m \u001b[39mFalse\u001b[39;00m\n\u001b[0;32m---> 24\u001b[0m \u001b[39mif\u001b[39;00m message\u001b[39m.\u001b[39;49merror():\n\u001b[1;32m     25\u001b[0m     \u001b[39mprint\u001b[39m(\u001b[39mf\u001b[39m\u001b[39m\"\u001b[39m\u001b[39mError: \u001b[39m\u001b[39m{\u001b[39;00mmessage\u001b[39m.\u001b[39merror()\u001b[39m}\u001b[39;00m\u001b[39m\"\u001b[39m)\n\u001b[1;32m     26\u001b[0m     running \u001b[39m=\u001b[39m \u001b[39mFalse\u001b[39;00m\n",
      "\u001b[0;31mAttributeError\u001b[0m: 'NoneType' object has no attribute 'error'"
     ]
    }
   ],
   "source": [
    "from confluent_kafka import avro\n",
    "from confluent_kafka.avro import AvroConsumer\n",
    "\n",
    "# Create an AvroConsumer with the schema registry configuration\n",
    "consumer = AvroConsumer(\n",
    "    {\n",
    "        \"bootstrap.servers\": \"broker:29092\",\n",
    "        \"group.id\": \"test_o4\",\n",
    "        \"schema.registry.url\": \"http://schema-registry:8081\",\n",
    "        \"auto.offset.reset\": \"earliest\"\n",
    "    }\n",
    ")\n",
    "\n",
    "# Subscribe to the topic\n",
    "consumer.subscribe([\"avro_schema_topic\"])\n",
    "\n",
    "# Consume messages with the registered schema\n",
    "running = True\n",
    "while running:\n",
    "    message = consumer.poll(5)\n",
    "    if message is None:\n",
    "        print(\"No message\")\n",
    "        running = False\n",
    "    elif message.error():\n",
    "        print(f\"Error: {message.error()}\")\n",
    "        running = False\n",
    "\n",
    "    # Get the AVRO-decoded message value\n",
    "    value = message.value()\n",
    "\n",
    "    # Access the fields in the value\n",
    "    id_value = value[\"id\"]\n",
    "    name_value = value[\"name\"]\n",
    "\n",
    "    print(f\"Received message - ID: {id_value}, Name: {name_value}\")\n",
    "\n",
    "consumer.close()"
   ]
  }
 ],
 "metadata": {
  "kernelspec": {
   "display_name": "Python 3 (ipykernel)",
   "language": "python",
   "name": "python3"
  },
  "language_info": {
   "codemirror_mode": {
    "name": "ipython",
    "version": 3
   },
   "file_extension": ".py",
   "mimetype": "text/x-python",
   "name": "python",
   "nbconvert_exporter": "python",
   "pygments_lexer": "ipython3",
   "version": "3.11.4"
  },
  "orig_nbformat": 4
 },
 "nbformat": 4,
 "nbformat_minor": 2
}
